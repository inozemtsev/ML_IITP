{
 "metadata": {
  "name": "",
  "signature": "sha256:d85d9ca536a3bb9cfea1a817f7ba7b9ce726531aa1fe9cd73a221706d2ac39c2"
 },
 "nbformat": 3,
 "nbformat_minor": 0,
 "worksheets": [
  {
   "cells": [
    {
     "cell_type": "code",
     "collapsed": false,
     "input": [
      "import csv, math,calendar\n",
      "import numpy as np\n",
      "import datetime\n",
      "\n",
      "train_x = [] #numerical data \n",
      "train_y = []\n",
      "\n",
      "summary = []\n",
      "source = []\n",
      "tag = []\n",
      "with open ('train.csv', 'rb') as f:\n",
      "    reader = csv.reader (f, delimiter=\",\")\n",
      "    for r in reader:\n",
      "        if r[0]==\"id\":\n",
      "            continue\n",
      "        train_x.append([])\n",
      "        train_y.append([])\n",
      "        train_x[-1].extend ([np.float64(x) for x in r[1:3]]) #coordinates\n",
      "        time = r[-2].split (' ')[1]\n",
      "        pt =datetime.datetime.strptime(time,'%H:%M:%S')\n",
      "        train_x[-1].append (pt.hour)\n",
      "        summary.append (r[3])\n",
      "        source.append (r[-3])\n",
      "        tag.append (r[-1])\n",
      "        train_y[-1].extend ([np.int_(x) for x in r[5:8]]) #num_votes, num_comments, num_views\n",
      "train_x = np.array (train_x)\n",
      "train_y = np.array (train_y)"
     ],
     "language": "python",
     "metadata": {},
     "outputs": [],
     "prompt_number": 1
    },
    {
     "cell_type": "code",
     "collapsed": false,
     "input": [
      "from sklearn.cross_validation import train_test_split\n",
      "X_train, X_test, Y_train, Y_test = train_test_split(train_x, train_y, \n",
      "                                                    random_state=2014, test_size=0.3)"
     ],
     "language": "python",
     "metadata": {},
     "outputs": [],
     "prompt_number": 2
    },
    {
     "cell_type": "code",
     "collapsed": false,
     "input": [
      "#for number of votes\n",
      "from sklearn.ensemble import RandomForestRegressor\n",
      "model0 = RandomForestRegressor(max_depth=8)\n",
      "model0.fit(X_train, Y_train[:,0])\n",
      "ans0 = model0.predict (X_test[:])\n",
      "ans0[ans0<0]=0\n",
      "errors = np.log(Y_test[:,0] + 1) - np.log(ans0 + 1)\n",
      "np.sqrt(np.mean(errors**2))"
     ],
     "language": "python",
     "metadata": {},
     "outputs": [
      {
       "metadata": {},
       "output_type": "pyout",
       "prompt_number": 3,
       "text": [
        "0.17875574836061478"
       ]
      }
     ],
     "prompt_number": 3
    },
    {
     "cell_type": "code",
     "collapsed": false,
     "input": [
      "#for number of comments\n",
      "from sklearn.linear_model import Ridge\n",
      "model1 = Ridge ()\n",
      "model1.fit(X_train, Y_train[:,1])\n",
      "ans1 = model1.predict (X_test[:])\n",
      "ans1[ans1<0]=0\n",
      "errors = np.log(Y_test[:,1] + 1) - np.log(ans1 + 1)\n",
      "np.sqrt(np.mean(errors**2))"
     ],
     "language": "python",
     "metadata": {},
     "outputs": [
      {
       "metadata": {},
       "output_type": "pyout",
       "prompt_number": 16,
       "text": [
        "0.23866089682495131"
       ]
      }
     ],
     "prompt_number": 16
    },
    {
     "cell_type": "code",
     "collapsed": false,
     "input": [
      "#for number of views (add summary, tag and source)\n",
      "from sklearn.feature_extraction.text import CountVectorizer\n",
      "from sklearn.linear_model import LinearRegression\n",
      "import matplotlib.pyplot as plt \n",
      "BOW_source = CountVectorizer(max_features=50)\n",
      "BOW_summary = CountVectorizer(max_features=100)\n",
      "BOW_tag = CountVectorizer(max_features=20)\n",
      "source_features = BOW_source.fit_transform(source).toarray()\n",
      "summary_features = BOW_summary.fit_transform(summary).toarray()\n",
      "tag_features = BOW_tag.fit_transform(tag).toarray()\n",
      "new_features = np.hstack ((train_x, source_features, summary_features, tag_features))\n",
      "X_train_text, X_test_text, Y_train_text, Y_test_text = train_test_split(new_features, train_y, \n",
      "                                                    random_state=2014, test_size=0.3)"
     ],
     "language": "python",
     "metadata": {},
     "outputs": [],
     "prompt_number": 62
    },
    {
     "cell_type": "code",
     "collapsed": false,
     "input": [
      "model2 = RandomForestRegressor()\n",
      "model2.fit (X_train_text, Y_train_text[:,2])\n",
      "ans2 = model2.predict(X_test_text)\n",
      "ans2[ans2 < 0] = 0\n",
      "errors = (np.log(Y_test_text[:,2] + 1) - np.log(ans2 + 1))\n",
      "print np.sqrt(np.mean(errors**2))"
     ],
     "language": "python",
     "metadata": {},
     "outputs": [
      {
       "output_type": "stream",
       "stream": "stdout",
       "text": [
        "0.878093326991\n"
       ]
      }
     ],
     "prompt_number": 63
    },
    {
     "cell_type": "code",
     "collapsed": false,
     "input": [
      "#estimate error\n",
      "errors = (np.log(Y_test[:,0] + 1) - np.log(ans0 + 1))**2\n",
      "errors = np.hstack((errors,((np.log(Y_test[:,1] + 1) - np.log(ans1 + 1))**2)))\n",
      "errors = np.hstack((errors,((np.log(Y_test[:,2] + 1) - np.log(np.rint(ans2) + 2))**2)))\n",
      "np.sqrt(np.mean(errors))"
     ],
     "language": "python",
     "metadata": {},
     "outputs": [
      {
       "metadata": {},
       "output_type": "pyout",
       "prompt_number": 83,
       "text": [
        "0.59807402671156817"
       ]
      }
     ],
     "prompt_number": 83
    },
    {
     "cell_type": "code",
     "collapsed": false,
     "input": [
      "import pandas as pd\n",
      "def isfloat(value):\n",
      "    try:\n",
      "        float(value)\n",
      "        return True\n",
      "    except ValueError:\n",
      "        return False\n",
      "raw_test = pd.read_csv ('./test.csv')\n",
      "ids = raw_test.id\n",
      "X_test = np.array(raw_test.ix[:,'latitude':'longitude'])\n",
      "time_test = []\n",
      "source_test = []\n",
      "summary_test = []\n",
      "tag_test = []\n",
      "for x in range(raw_test.shape[0]):\n",
      "    time_test.append(datetime.datetime.strptime(raw_test.created_time[x].split(' ')[1], '%H:%M:%S').hour)\n",
      "    if isfloat(raw_test.source[x]):\n",
      "        raw_test.source[x]='NA'\n",
      "    if isfloat(raw_test.tag_type[x]):\n",
      "        raw_test.tag_type[x]='NA'\n",
      "    source_test.append(raw_test.source[x])\n",
      "    summary_test.append(raw_test.summary[x])\n",
      "    tag_test.append(raw_test.tag_type[x])\n",
      "\n",
      "X_test = np.column_stack((X_test, time_test))\n",
      "summary_test = BOW_summary.transform(summary_test).toarray()\n",
      "source_test = BOW_source.transform(source_test).toarray()\n",
      "tag_test = BOW_tag.transform(tag_test).toarray()\n",
      "votes = model0.predict(X_test)\n",
      "comments = model1.predict(X_test)\n",
      "views = model2.predict(np.hstack((X_test, source_test, summary_test, tag_test)))\n",
      "votes[votes<0]=0\n",
      "comments[comments<0]=0\n",
      "views[views<0]=0\n",
      "\n",
      "\n"
     ],
     "language": "python",
     "metadata": {},
     "outputs": [],
     "prompt_number": 98
    },
    {
     "cell_type": "code",
     "collapsed": false,
     "input": [
      "views = np.array(np.rint(views), dtype=np.int)\n",
      "votes = np.array(np.rint(votes), dtype=np.int)\n",
      "comments = np.array(np.rint(comments), dtype=np.int)\n",
      "pd.DataFrame(data=np.column_stack((views, votes, comments)), index=ids).to_csv(path_or_buf='./ans.csv', header=['num_views', 'num_votes', 'num_comments'])"
     ],
     "language": "python",
     "metadata": {},
     "outputs": [],
     "prompt_number": 99
    },
    {
     "cell_type": "code",
     "collapsed": false,
     "input": [],
     "language": "python",
     "metadata": {},
     "outputs": [
      {
       "metadata": {},
       "output_type": "pyout",
       "prompt_number": 96,
       "text": [
        "array([[1, 1, 0],\n",
        "       [1, 1, 0],\n",
        "       [0, 1, 0],\n",
        "       ..., \n",
        "       [6, 2, 0],\n",
        "       [9, 3, 0],\n",
        "       [6, 2, 0]])"
       ]
      }
     ],
     "prompt_number": 96
    },
    {
     "cell_type": "code",
     "collapsed": false,
     "input": [],
     "language": "python",
     "metadata": {},
     "outputs": []
    }
   ],
   "metadata": {}
  }
 ]
}