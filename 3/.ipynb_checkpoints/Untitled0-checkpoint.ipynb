{
 "metadata": {
  "name": "",
  "signature": "sha256:47608a0c084a2753908091eb5a2ae28e89e1ee99bfddad3a54f9fe0b751fc50d"
 },
 "nbformat": 3,
 "nbformat_minor": 0,
 "worksheets": [
  {
   "cells": [
    {
     "cell_type": "code",
     "collapsed": false,
     "input": [
      "import csv\n",
      "import numpy as np\n",
      "\n",
      "\"\"\"(\"id\"), 0 - \"latitude\", 1 - \"longitude\", 2 - \"summary\",(\"description\",)\n",
      "\"num_votes\",\"num_comments\",\"num_views\",3 - \"source\",4 - \"created_time\", \n",
      "5 - \"tag_type\" \"\"\"\n",
      "data = []\n",
      "with open ('train.csv', 'rb') as f:\n",
      "\treader = csv.reader (f, delimiter=\",\")\n",
      "\tfor r in reader:\n",
      "\t\tif r[0]==\"id\":\n",
      "\t\t\tcontinue\n",
      "\t\tdata.append([])\n",
      "\t\t# data[-1].append (int(r[0]))\n",
      "\t\tdata[-1].extend ([np.float64(x) for x in r[1:3]]) #coordinates\n",
      "\t\tdata[-1].append (r[3]) #summary\n",
      "\t\t# data[-1].append(r[4])\n",
      "\t\tdata[-1].extend ([np.int_(x) for x in r[5:8]]) #num_votes, num_comments, num_views\n",
      "\t\tdata[-1].extend (r[8:]) #source, created_time, tag_type\n",
      "data = np.array (data)\n",
      "print data.shape\n",
      "train_y = data[:,3:6]\n",
      "train_x = np.delete (data, range(3,6), 1)"
     ],
     "language": "python",
     "metadata": {},
     "outputs": [
      {
       "output_type": "stream",
       "stream": "stdout",
       "text": [
        "(223129L, 9L)\n"
       ]
      }
     ],
     "prompt_number": 1
    },
    {
     "cell_type": "code",
     "collapsed": false,
     "input": [
      "from sklearn.ensemble import RandomForestRegressor\n",
      "from sklearn import cross_validation\n",
      "X_train, X_test, Y_train, Y_test = cross_validation.train_test_split (train_x, train_y, test_size=0.4)\n",
      "randomforest = RandomForestRegressor (n_estimators=3, max_features=0.5, max_depth=12,\n",
      "                       oob_score=True, n_job=-1)\n",
      "\n",
      "randomforest.fit(X_train, Y_train)\n",
      "\n",
      "ans = randomforest.predict (Y_test)\n",
      "print ans.shape\n"
     ],
     "language": "python",
     "metadata": {},
     "outputs": [
      {
       "ename": "IndentationError",
       "evalue": "unexpected indent (<ipython-input-3-ff3ada23afd7>, line 4)",
       "output_type": "pyerr",
       "traceback": [
        "\u001b[1;36m  File \u001b[1;32m\"<ipython-input-3-ff3ada23afd7>\"\u001b[1;36m, line \u001b[1;32m4\u001b[0m\n\u001b[1;33m    (train_x, train_y, test_size=0.4)\u001b[0m\n\u001b[1;37m    ^\u001b[0m\n\u001b[1;31mIndentationError\u001b[0m\u001b[1;31m:\u001b[0m unexpected indent\n"
       ]
      }
     ],
     "prompt_number": 3
    },
    {
     "cell_type": "code",
     "collapsed": false,
     "input": [],
     "language": "python",
     "metadata": {},
     "outputs": []
    }
   ],
   "metadata": {}
  }
 ]
}