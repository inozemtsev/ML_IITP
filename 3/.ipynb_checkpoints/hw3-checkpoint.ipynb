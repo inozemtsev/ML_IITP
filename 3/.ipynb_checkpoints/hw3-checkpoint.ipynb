{
 "metadata": {
  "name": "",
  "signature": "sha256:3822be64e2c97435e518726b3d0a40903f607740cb3cc5b5dcdb44681c8dcd66"
 },
 "nbformat": 3,
 "nbformat_minor": 0,
 "worksheets": [
  {
   "cells": [
    {
     "cell_type": "code",
     "collapsed": false,
     "input": [
      "import csv, math,calendar\n",
      "import numpy as np\n",
      "import datetime\n",
      "\n",
      "train_x = [] #numerical data \n",
      "train_y = []\n",
      "\n",
      "summary = []\n",
      "source = []\n",
      "tag = []\n",
      "with open ('train.csv', 'rb') as f:\n",
      "    reader = csv.reader (f, delimiter=\",\")\n",
      "    for r in reader:\n",
      "        if r[0]==\"id\":\n",
      "            continue\n",
      "        train_x.append([])\n",
      "        train_y.append([])\n",
      "        train_x[-1].extend ([np.float64(x) for x in r[1:3]]) #coordinates\n",
      "        time = r[-2].split (' ')[1]\n",
      "        pt =datetime.datetime.strptime(time,'%H:%M:%S')\n",
      "        train_x[-1].append (pt.hour)\n",
      "        summary.append (r[3])\n",
      "        source.append (r[-3])\n",
      "        tag.append (r[-1])\n",
      "        train_y[-1].extend ([np.int_(x) for x in r[5:8]]) #num_votes, num_comments, num_views\n",
      "train_x = np.array (train_x)\n",
      "train_y = np.array (train_y)"
     ],
     "language": "python",
     "metadata": {},
     "outputs": [],
     "prompt_number": 1
    },
    {
     "cell_type": "code",
     "collapsed": false,
     "input": [
      "from sklearn.cross_validation import train_test_split\n",
      "X_train, X_test, Y_train, Y_test = train_test_split(train_x, train_y, \n",
      "                                                    random_state=2014, test_size=0.3)"
     ],
     "language": "python",
     "metadata": {},
     "outputs": [],
     "prompt_number": 2
    },
    {
     "cell_type": "code",
     "collapsed": false,
     "input": [
      "#for number of votes\n",
      "from sklearn.ensemble import RandomForestRegressor\n",
      "model0 = RandomForestRegressor (max_depth=8)\n",
      "model0.fit(X_train[:], Y_train[:,0])\n",
      "ans0 = model0.predict (X_test[:])\n",
      "ans0[ans0<0]=0\n",
      "errors = np.log(Y_test[:,0] + 1) - np.log(ans0 + 1)\n",
      "np.sqrt(np.mean(errors**2))"
     ],
     "language": "python",
     "metadata": {},
     "outputs": [
      {
       "metadata": {},
       "output_type": "pyout",
       "prompt_number": 3,
       "text": [
        "0.17915019292342163"
       ]
      }
     ],
     "prompt_number": 3
    },
    {
     "cell_type": "code",
     "collapsed": false,
     "input": [
      "#for number of comments\n",
      "from sklearn.linear_model import Ridge\n",
      "model1 = Ridge ()\n",
      "model1.fit(X_train[:], Y_train[:,1])\n",
      "ans1 = model1.predict (X_test[:])\n",
      "ans1[ans1<0]=0\n",
      "errors = np.log(Y_test[:,1] + 1) - np.log(ans1 + 1)\n",
      "np.sqrt(np.mean(errors**2))"
     ],
     "language": "python",
     "metadata": {},
     "outputs": [
      {
       "metadata": {},
       "output_type": "pyout",
       "prompt_number": 4,
       "text": [
        "0.23866089682495131"
       ]
      }
     ],
     "prompt_number": 4
    },
    {
     "cell_type": "code",
     "collapsed": false,
     "input": [
      "#for number of views (add summary, tag and source)\n",
      "from sklearn.feature_extraction.text import CountVectorizer\n",
      "from sklearn.linear_model import LinearRegression\n",
      "import matplotlib.pyplot as plt \n",
      "BOW = CountVectorizer(max_features=100)\n",
      "source_features = BOW.fit_transform(source).toarray()\n",
      "summary_features = BOW.fit_transform(summary).toarray()\n",
      "tag_features = BOW.fit_transform(tag).toarray()\n",
      "new_features = np.hstack ((train_x, source_features, summary_features, tag_features))\n",
      "X_train_text, X_test_text, Y_train_text, Y_test_text = train_test_split(new_features, train_y, \n",
      "                                                    random_state=2014, test_size=0.3)"
     ],
     "language": "python",
     "metadata": {},
     "outputs": [],
     "prompt_number": 5
    },
    {
     "cell_type": "code",
     "collapsed": false,
     "input": [
      "model2 = RandomForestRegressor()\n",
      "model2.fit (X_train_text, Y_train_text[:,2])\n",
      "ans2 = model2.predict(X_test_text)\n",
      "ans2[ans2 < 0] = 0\n",
      "errors = (np.log(Y_test_text[:,2] + 1) - np.log(ans2 + 1))\n",
      "print np.sqrt(np.mean(errors**2))"
     ],
     "language": "python",
     "metadata": {},
     "outputs": [
      {
       "output_type": "stream",
       "stream": "stdout",
       "text": [
        "0.878151561962\n"
       ]
      }
     ],
     "prompt_number": 6
    },
    {
     "cell_type": "code",
     "collapsed": false,
     "input": [
      "#estimate error\n",
      "errors = (np.log(Y_test[:,0] + 1) - np.log(ans0 + 1))**2\n",
      "errors = np.hstack((errors,((np.log(Y_test[:,1] + 1) - np.log(ans1 + 1))**2)))\n",
      "errors = np.hstack((errors,((np.log(Y_test[:,2] + 1) - np.log(ans2 + 2))**2)))\n",
      "np.sqrt(np.mean(errors))"
     ],
     "language": "python",
     "metadata": {},
     "outputs": [
      {
       "metadata": {},
       "output_type": "pyout",
       "prompt_number": 7,
       "text": [
        "0.60170661175614126"
       ]
      }
     ],
     "prompt_number": 7
    },
    {
     "cell_type": "code",
     "collapsed": false,
     "input": [
      "import pandas as pd\n"
     ],
     "language": "python",
     "metadata": {},
     "outputs": []
    }
   ],
   "metadata": {}
  }
 ]
}