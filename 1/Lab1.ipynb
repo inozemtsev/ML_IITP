{
 "metadata": {
  "name": "",
  "signature": "sha256:de322126aea2c916ad8ba490b9b8cc28a2b66fe19cf780d992375bafc180f7cd"
 },
 "nbformat": 3,
 "nbformat_minor": 0,
 "worksheets": [
  {
   "cells": [
    {
     "cell_type": "code",
     "collapsed": false,
     "input": [
      "import sklearn.datasets\n",
      "import numpy\n",
      "import matplotlib.pylab as plt"
     ],
     "language": "python",
     "metadata": {},
     "outputs": [],
     "prompt_number": 1
    },
    {
     "cell_type": "code",
     "collapsed": false,
     "input": [
      "## \u0424\u043e\u0440\u043c\u0438\u0440\u043e\u0432\u0430\u043d\u0438\u0435 \u0434\u0430\u0442\u0430\u0441\u0435\u0442\u0430 (X, Y)\n",
      "iris = sklearn.datasets.load_iris()\n",
      "X = iris.data[:, :2]\n",
      "Y = numpy.zeros(len(iris.target))\n",
      "Y[iris.target>0] = 1"
     ],
     "language": "python",
     "metadata": {},
     "outputs": [],
     "prompt_number": 3
    },
    {
     "cell_type": "code",
     "collapsed": false,
     "input": [
      "## \u0412\u0438\u0437\u0443\u0430\u043b\u0438\u0437\u0430\u0446\u0438\u044f\n",
      "iSelector = Y==0\n",
      "plt.scatter(X[iSelector, 0], X[iSelector, 1], c='b')\n",
      "plt.scatter(X[~iSelector, 0], X[~iSelector, 1], c='y')\n",
      "plt.show()"
     ],
     "language": "python",
     "metadata": {},
     "outputs": [
      {
       "metadata": {},
       "output_type": "display_data",
       "png": "[encoded data removed]",
       "text": [
        "<matplotlib.figure.Figure at 0x3e4c750>"
       ]
      }
     ],
     "prompt_number": 4
    },
    {
     "cell_type": "code",
     "collapsed": false,
     "input": [
      "## \u041e\u0431\u0443\u0447\u0435\u043d\u0438\u0435 \u043f\u0435\u0440\u0441\u0435\u043f\u0442\u0440\u043e\u043d\u0430\n",
      "from sklearn.linear_model import Perceptron\n",
      "model = Perceptron(n_iter=200)\n",
      "model.fit(X, Y)\n",
      "# \u0432\u044b\u0442\u0430\u0441\u043a\u0438\u0432\u0430\u0435\u043c \u043a\u043e\u044d\u0444\u0444\u0438\u0446\u0438\u0435\u043d\u0442\u044b \u0438\u0437 \u043c\u043e\u0434\u0435\u043b\u0438\n",
      "a = model.coef_[0][0]\n",
      "b = model.coef_[0][1]\n",
      "c = model.intercept_[0]\n",
      "\n",
      "## \u0417\u0434\u0435\u0441\u044c \u0434\u043e\u0436\u0435\u043d \u0431\u044b\u0442\u044c \u0432\u044b\u0437\u043e\u0432 \u0432\u0430\u0448\u0435\u0439 \u0444\u0443\u043d\u043a\u0446\u0438\u0438, \u043a\u043e\u0442\u043e\u0440\u0430\u044f \u043f\u043e \u0434\u0430\u043d\u043d\u044b\u043c \u0435\u0439 (X,Y) \u0432\u0435\u0440\u043d\u0435\u0442 \u043a\u043e\u044d\u0444\u0444\u0438\u0446\u0438\u0435\u043d\u0442\u044b a,b,c \n",
      "## (\u0441\u0447\u0438\u0442\u0430\u0435\u043c, \u0447\u0442\u043e \u0443 \u043d\u0430\u0441 \u0434\u0432\u0443\u0445\u043c\u0435\u0440\u043d\u043e\u0435 \u0438\u0441\u0445\u043e\u0434\u043d\u043e\u0435 \u043f\u0440\u0438\u0437\u043d\u0430\u043a\u043e\u0432\u043e\u0435 \u043f\u0440\u043e\u0441\u0442\u0440\u0430\u043d\u0441\u0442\u0432\u043e \u0438 \u0437\u0430\u0434\u0430\u0447\u0430 \u0431\u0438\u043d\u0430\u0440\u043d\u043e\u0439 \u043a\u043b\u0430\u0441\u0441\u0438\u0444\u0438\u043a\u0430\u0446\u0438\u0438)"
     ],
     "language": "python",
     "metadata": {},
     "outputs": [],
     "prompt_number": 5
    },
    {
     "cell_type": "code",
     "collapsed": false,
     "input": [
      "## \u041e\u0442\u0440\u0438\u0441\u043e\u0432\u043a\u0430 \u0440\u0435\u0437\u0443\u043b\u044c\u0442\u0430\u0442\u0430\n",
      "iSelector = Y==0\n",
      "plt.scatter(X[iSelector, 0], X[iSelector, 1], c='b')\n",
      "plt.scatter(X[~iSelector, 0], X[~iSelector, 1], c='y')\n",
      "# \u0440\u0438\u0441\u0443\u0435\u043c \u043f\u043e \u043d\u0438\u043c \u043f\u0440\u044f\u043c\u0443\u044e\n",
      "plt.plot([4, 8], [(-a*4 - c)/b , (-a*8 - c)/b])\n",
      "plt.show()"
     ],
     "language": "python",
     "metadata": {},
     "outputs": [
      {
       "metadata": {},
       "output_type": "display_data",
       "png": "[encoded data removed]",
       "text": [
        "<matplotlib.figure.Figure at 0x4388690>"
       ]
      }
     ],
     "prompt_number": 7
    },
    {
     "cell_type": "code",
     "collapsed": false,
     "input": [
      "a = numpy.concatenate((numpy.ones(5), numpy.zeros(5)))"
     ],
     "language": "python",
     "metadata": {},
     "outputs": [],
     "prompt_number": 14
    },
    {
     "cell_type": "code",
     "collapsed": false,
     "input": [
      "a + arange(10)"
     ],
     "language": "python",
     "metadata": {},
     "outputs": [
      {
       "metadata": {},
       "output_type": "pyout",
       "prompt_number": 17,
       "text": [
        "array([ 1.,  2.,  3.,  4.,  5.,  5.,  6.,  7.,  8.,  9.])"
       ]
      }
     ],
     "prompt_number": 17
    },
    {
     "cell_type": "code",
     "collapsed": false,
     "input": [
      "a"
     ],
     "language": "python",
     "metadata": {},
     "outputs": [
      {
       "metadata": {},
       "output_type": "pyout",
       "prompt_number": 11,
       "text": [
        "array([[ 0.,  0.,  0.,  0.],\n",
        "       [ 0.,  0.,  0.,  0.]])"
       ]
      }
     ],
     "prompt_number": 11
    }
   ],
   "metadata": {}
  }
 ]
}