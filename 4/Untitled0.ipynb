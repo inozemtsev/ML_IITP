{
 "metadata": {
  "name": "",
  "signature": "sha256:91de9a30d041879fda74b42c8a66acbbbd54f00a6620c2c7e3b838a8542daf82"
 },
 "nbformat": 3,
 "nbformat_minor": 0,
 "worksheets": [
  {
   "cells": [
    {
     "cell_type": "code",
     "collapsed": false,
     "input": [
      "import pandas as pd\n",
      "import numpy as np\n",
      "from sklearn.cross_validation import train_test_split\n",
      "from sklearn.grid_search import GridSearchCV\n",
      "from sklearn.decomposition import PCA\n",
      "from sklearn.svm import SVC"
     ],
     "language": "python",
     "metadata": {},
     "outputs": [],
     "prompt_number": 1
    },
    {
     "cell_type": "code",
     "collapsed": false,
     "input": [
      "raw_train = pd.read_csv ('./train.csv')\n",
      "train_y = np.array(raw_train.label)\n",
      "train_x = np.array(raw_train.ix[:, 'pixel0':])\n",
      "X_train, X_test, Y_train, Y_test = train_test_split(train_x, train_y, \n",
      "                                                     test_size=0.3, \n",
      "                                                     random_state=7)\n"
     ],
     "language": "python",
     "metadata": {},
     "outputs": []
    },
    {
     "cell_type": "code",
     "collapsed": false,
     "input": [
      "pca = PCA (n_components=154)\n",
      "X_train_pca = pca.fit_transform(X_train)\n",
      "X_test_pca = pca.transform(X_test)\n",
      "print sum(pca.explained_variance_ratio_)\n"
     ],
     "language": "python",
     "metadata": {},
     "outputs": [
      {
       "ename": "NameError",
       "evalue": "name 'X_train' is not defined",
       "output_type": "pyerr",
       "traceback": [
        "\u001b[1;31m---------------------------------------------------------------------------\u001b[0m\n\u001b[1;31mNameError\u001b[0m                                 Traceback (most recent call last)",
        "\u001b[1;32m<ipython-input-2-8d68337c9a0b>\u001b[0m in \u001b[0;36m<module>\u001b[1;34m()\u001b[0m\n\u001b[0;32m      1\u001b[0m \u001b[0mpca\u001b[0m \u001b[1;33m=\u001b[0m \u001b[0mPCA\u001b[0m \u001b[1;33m(\u001b[0m\u001b[0mn_components\u001b[0m\u001b[1;33m=\u001b[0m\u001b[1;36m154\u001b[0m\u001b[1;33m)\u001b[0m\u001b[1;33m\u001b[0m\u001b[0m\n\u001b[1;32m----> 2\u001b[1;33m \u001b[0mX_train_pca\u001b[0m \u001b[1;33m=\u001b[0m \u001b[0mpca\u001b[0m\u001b[1;33m.\u001b[0m\u001b[0mfit_transform\u001b[0m\u001b[1;33m(\u001b[0m\u001b[0mX_train\u001b[0m\u001b[1;33m)\u001b[0m\u001b[1;33m\u001b[0m\u001b[0m\n\u001b[0m\u001b[0;32m      3\u001b[0m \u001b[0mX_test_pca\u001b[0m \u001b[1;33m=\u001b[0m \u001b[0mpca\u001b[0m\u001b[1;33m.\u001b[0m\u001b[0mtransform\u001b[0m\u001b[1;33m(\u001b[0m\u001b[0mX_test\u001b[0m\u001b[1;33m)\u001b[0m\u001b[1;33m\u001b[0m\u001b[0m\n\u001b[0;32m      4\u001b[0m \u001b[1;32mprint\u001b[0m \u001b[0msum\u001b[0m\u001b[1;33m(\u001b[0m\u001b[0mpca\u001b[0m\u001b[1;33m.\u001b[0m\u001b[0mexplained_variance_ratio_\u001b[0m\u001b[1;33m)\u001b[0m\u001b[1;33m\u001b[0m\u001b[0m\n",
        "\u001b[1;31mNameError\u001b[0m: name 'X_train' is not defined"
       ]
      }
     ],
     "prompt_number": 2
    },
    {
     "cell_type": "code",
     "collapsed": false,
     "input": [
      "# #rbf C=3; gamma=5e-7\n",
      "# #poly C=1 gamma=1e-6\n",
      "# params = [\n",
      "#     {'C':range(1,15,2), 'gamma':[1e-7, 3e-7, 5e-7, 7e-7, 1e-6], 'kernel':['rbf']},\n",
      "#      {'C':range (1,10,2), 'gamma':[1e-7, 3e-7, 5e-7, 7e-7, 1e-6], 'degree':[3], 'kernel':['poly']}\n",
      "# ]\n",
      "# svc = SVC()\n",
      "# clf = GridSearchCV(svc, params)\n",
      "# clf.fit(X_train_pca, Y_train)\n",
      "# clf.best_estimator_"
     ],
     "language": "python",
     "metadata": {},
     "outputs": []
    },
    {
     "cell_type": "code",
     "collapsed": false,
     "input": [
      "rbf = SVC(C=3, gamma=5e-7)\n",
      "rbf.fit(X_train_pca, Y_train)\n",
      "ans = rbf.predict (X_test_pca)\n",
      "np.count_nonzero(ans!=Y_test)/float(Y_test.shape[0])"
     ],
     "language": "python",
     "metadata": {},
     "outputs": [
      {
       "metadata": {},
       "output_type": "pyout",
       "prompt_number": 10,
       "text": [
        "0.018174603174603173"
       ]
      }
     ],
     "prompt_number": 10
    },
    {
     "cell_type": "code",
     "collapsed": false,
     "input": [
      "poly = SVC(C=1, gamma=1e-6, kernel='poly')\n",
      "poly.fit(X_train_pca, Y_train)\n",
      "ans = poly.predict (X_test_pca)\n",
      "np.count_nonzero(ans!=Y_test)/float(Y_test.shape[0])"
     ],
     "language": "python",
     "metadata": {},
     "outputs": [
      {
       "metadata": {},
       "output_type": "pyout",
       "prompt_number": 6,
       "text": [
        "0.01873015873015873"
       ]
      }
     ],
     "prompt_number": 6
    },
    {
     "cell_type": "code",
     "collapsed": false,
     "input": [
      "raw_test = pd.read_csv('./test.csv')\n",
      "test = np.array(raw_test.ix[:, 'pixel0':])\n",
      "test = pca.transform(test)\n",
      "ans = poly.predict(test)\n",
      "pd.DataFrame(data=ans, index=range(1,test.shape[0]+1)).to_csv(path_or_buf='./ans_poly.csv', header=['Label'])"
     ],
     "language": "python",
     "metadata": {},
     "outputs": [],
     "prompt_number": 7
    },
    {
     "cell_type": "code",
     "collapsed": false,
     "input": [
      "ans = rbf.predict(test)\n",
      "pd.DataFrame(data=ans, index=range(1,test.shape[0]+1)).to_csv(path_or_buf='./ans_rbf.csv', header=['Label'])"
     ],
     "language": "python",
     "metadata": {},
     "outputs": [],
     "prompt_number": 8
    },
    {
     "cell_type": "code",
     "collapsed": false,
     "input": [],
     "language": "python",
     "metadata": {},
     "outputs": []
    }
   ],
   "metadata": {}
  }
 ]
}