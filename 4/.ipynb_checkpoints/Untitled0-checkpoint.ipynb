{
 "metadata": {
  "name": "",
  "signature": "sha256:d8b08c8bd184540eb37114f02595b98468ece13f78debd686aaf7a25e9ebfb16"
 },
 "nbformat": 3,
 "nbformat_minor": 0,
 "worksheets": [
  {
   "cells": [
    {
     "cell_type": "code",
     "collapsed": false,
     "input": [
      "import pandas as pd\n",
      "import numpy as np\n",
      "from sklearn.cross_validation import train_test_split\n",
      "from sklearn.grid_search import GridSearchCV\n",
      "from sklearn.decomposition import PCA\n",
      "from sklearn.svm import SVC"
     ],
     "language": "python",
     "metadata": {},
     "outputs": [],
     "prompt_number": 1
    },
    {
     "cell_type": "code",
     "collapsed": false,
     "input": [
      "raw_train = pd.read_csv ('./train.csv')\n",
      "train_y = np.array(raw_train.label)\n",
      "train_x = np.array(raw_train.ix[:, 'pixel0':])\n",
      "X_train, X_test, Y_train, Y_test = train_test_split(train_x, train_y, \n",
      "                                                     test_size=0.3, \n",
      "                                                     random_state=7)\n"
     ],
     "language": "python",
     "metadata": {},
     "outputs": [],
     "prompt_number": 2
    },
    {
     "cell_type": "code",
     "collapsed": false,
     "input": [
      "pca = PCA (n_components=154)\n",
      "X_train_pca = pca.fit_transform(X_train)\n",
      "X_test_pca = pca.transform(X_test)\n",
      "print sum(pca.explained_variance_ratio_)\n"
     ],
     "language": "python",
     "metadata": {},
     "outputs": [
      {
       "output_type": "stream",
       "stream": "stdout",
       "text": [
        "0.95048136865\n"
       ]
      }
     ],
     "prompt_number": 3
    },
    {
     "cell_type": "code",
     "collapsed": false,
     "input": [
      "#rbf C=11; gamma=1e-6\n",
      "#poly C=1 gamma=1e-6\n",
      "params = [\n",
      "#     {'C':range(1,30,3), 'gamma':[1e-6], 'kernel':['rbf']},\n",
      "#     {'C':range (1,10,3), 'gamma':[1e-6], 'degree':[3], 'kernel':['poly']}\n",
      "]\n",
      "svc = SVC()\n",
      "clf = GridSearchCV(svc, params)\n",
      "clf.fit(X_train_pca, Y_train)\n",
      "clf.best_estimator_"
     ],
     "language": "python",
     "metadata": {},
     "outputs": [
      {
       "metadata": {},
       "output_type": "pyout",
       "prompt_number": 4,
       "text": [
        "SVC(C=1, cache_size=200, class_weight=None, coef0=0.0, degree=4, gamma=1e-06,\n",
        "  kernel='poly', max_iter=-1, probability=False, random_state=None,\n",
        "  shrinking=True, tol=0.001, verbose=False)"
       ]
      }
     ],
     "prompt_number": 4
    },
    {
     "cell_type": "code",
     "collapsed": false,
     "input": [
      "rbf = SVC(C=11, gamma=1e-5)\n",
      "rbf.fit(X_train_pca, Y_train)\n",
      "ans = rbf.predict (X_test_pca)\n",
      "np.count_nonzero(ans!=Y_test)/float(Y_test.shape[0])"
     ],
     "language": "python",
     "metadata": {},
     "outputs": []
    },
    {
     "cell_type": "code",
     "collapsed": false,
     "input": [
      "poly = SVC(C=1, gamma=1e-6, kernel='poly')\n",
      "poly.fit(X_train_pca, Y_train)\n",
      "ans = poly.predict (X_test_pca)\n",
      "np.count_nonzero(ans!=Y_test)/float(Y_test.shape[0])"
     ],
     "language": "python",
     "metadata": {},
     "outputs": [
      {
       "metadata": {},
       "output_type": "pyout",
       "prompt_number": 16,
       "text": [
        "0.024761904761904763"
       ]
      }
     ],
     "prompt_number": 16
    },
    {
     "cell_type": "code",
     "collapsed": false,
     "input": [
      "raw_test = pd.read_csv('./test.csv')\n",
      "test = np.array(raw_test.ix[:, 'pixel0':])\n",
      "test = pca.transform(test)\n",
      "ans = poly.predict(test)"
     ],
     "language": "python",
     "metadata": {},
     "outputs": []
    },
    {
     "cell_type": "code",
     "collapsed": false,
     "input": [
      "pd.DataFrame(data=ans, index=range(1,test.shape[0]+1)).to_csv(path_or_buf='./ans.csv', header=['Label'])"
     ],
     "language": "python",
     "metadata": {},
     "outputs": [],
     "prompt_number": 15
    },
    {
     "cell_type": "code",
     "collapsed": false,
     "input": [],
     "language": "python",
     "metadata": {},
     "outputs": []
    }
   ],
   "metadata": {}
  }
 ]
}