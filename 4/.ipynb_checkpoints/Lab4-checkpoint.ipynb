{
 "metadata": {
  "name": "",
  "signature": "sha256:df0f1de76cfb279d135801e737c6cebb8301de875c0d1ac26fc8e554f5a92e83"
 },
 "nbformat": 3,
 "nbformat_minor": 0,
 "worksheets": [
  {
   "cells": [
    {
     "cell_type": "heading",
     "level": 2,
     "metadata": {},
     "source": [
      "#SVM"
     ]
    },
    {
     "cell_type": "code",
     "collapsed": false,
     "input": [
      "import numpy as np\n",
      "from sklearn.datasets.samples_generator import make_blobs\n",
      "\n",
      "X, Y = make_blobs(n_samples=50, centers=2, random_state=0, cluster_std=0.60)\n",
      "scatter(X[:, 0], X[:, 1], c=Y, cmap=plt.cm.Paired)"
     ],
     "language": "python",
     "metadata": {},
     "outputs": []
    },
    {
     "cell_type": "heading",
     "level": 3,
     "metadata": {},
     "source": [
      "# \u0424\u0443\u043d\u043a\u0446\u0438\u0438 \u043f\u043e\u0442\u0435\u0440\u044c"
     ]
    },
    {
     "cell_type": "code",
     "collapsed": false,
     "input": [
      "xmin, xmax = -4, 4\n",
      "xx = np.linspace(xmin, xmax, 100)\n",
      "plot([xmin, 0, 0, xmax], [1, 1, 0, 0], 'k-',\n",
      "         label=\"Binary loss\")\n",
      "plot(xx, np.where(xx < 1, 1 - xx, 0), 'b-',\n",
      "         label=\"Hinge loss\")\n",
      "plot(xx, np.log2(1 + np.exp(-xx)), 'r-',\n",
      "         label=\"Log loss\")\n",
      "ylim((0, 8))\n",
      "legend(loc=\"upper right\")\n",
      "xlabel(r\"Decision function $f(x)$\")\n",
      "ylabel(\"$L(y, f(x))$\")"
     ],
     "language": "python",
     "metadata": {},
     "outputs": []
    },
    {
     "cell_type": "code",
     "collapsed": false,
     "input": [
      "from sklearn.linear_model import Perceptron\n",
      "model = Perceptron()\n",
      "model.fit(X, Y)\n",
      "\n",
      "a, b, c = model.coef_[0][0], model.coef_[0][1], model.intercept_[0]\n",
      "scatter(X[:, 0], X[:, 1], c=Y, cmap=plt.cm.Paired)\n",
      "plot([0, 3], [- c / b, (- c -a*3) / b])"
     ],
     "language": "python",
     "metadata": {},
     "outputs": []
    },
    {
     "cell_type": "code",
     "collapsed": false,
     "input": [
      "from sklearn.linear_model import LogisticRegression\n",
      "model = LogisticRegression()\n",
      "model.fit(X, Y)\n",
      "\n",
      "a, b, c = model.coef_[0][0], model.coef_[0][1], model.intercept_[0]\n",
      "scatter(X[:, 0], X[:, 1], c=Y, cmap=plt.cm.Paired)\n",
      "plot([0, 3], [- c / b, (- c -a*3) / b])"
     ],
     "language": "python",
     "metadata": {},
     "outputs": []
    },
    {
     "cell_type": "code",
     "collapsed": false,
     "input": [
      "from sklearn.linear_model import SGDClassifier\n",
      "model = SGDClassifier(loss=\"hinge\", alpha=0.01, n_iter=200, fit_intercept=True)\n",
      "model.fit(X, Y)\n",
      "\n",
      "a, b, c = model.coef_[0][0], model.coef_[0][1], model.intercept_[0]\n",
      "scatter(X[:, 0], X[:, 1], c=Y, cmap=plt.cm.Paired)\n",
      "plot([0, 3], [- c / b, (- c -a*3) / b])"
     ],
     "language": "python",
     "metadata": {},
     "outputs": []
    },
    {
     "cell_type": "code",
     "collapsed": false,
     "input": [
      "from sklearn.svm import SVC\n",
      "model = SVC(kernel='linear')\n",
      "model.fit(X, Y)\n",
      "\n",
      "a, b, c = model.coef_[0][0], model.coef_[0][1], model.intercept_[0]\n",
      "scatter(X[:, 0], X[:, 1], c=Y, cmap=plt.cm.Paired)\n",
      "plot([0, 3], [- c / b, (- c -a*3) / b])"
     ],
     "language": "python",
     "metadata": {},
     "outputs": []
    },
    {
     "cell_type": "code",
     "collapsed": false,
     "input": [
      "# SVM GUI"
     ],
     "language": "python",
     "metadata": {},
     "outputs": []
    },
    {
     "cell_type": "heading",
     "level": 3,
     "metadata": {},
     "source": [
      "# \u042f\u0434\u0440\u0430"
     ]
    },
    {
     "cell_type": "code",
     "collapsed": false,
     "input": [
      "# Our dataset and targets\n",
      "X = np.c_[(.4, -.7),\n",
      "          (-1.5, -1),\n",
      "          (-1.4, -.9),\n",
      "          (-1.3, -1.2),\n",
      "          (-1.1, -.2),\n",
      "          (-1.2, -.4),\n",
      "          (-.5, 1.2),\n",
      "          (-1.5, 2.1),\n",
      "          (1, 1),\n",
      "          # --\n",
      "          (1.3, .8),\n",
      "          (1.2, .5),\n",
      "          (.2, -2),\n",
      "          (.5, -2.4),\n",
      "          (.2, -2.3),\n",
      "          (0, -2.7),\n",
      "          (1.3, 2.1)].T\n",
      "Y = [0] * 8 + [1] * 8\n",
      "\n",
      "# figure number\n",
      "fignum = 1\n",
      "\n",
      "# fit the model\n",
      "for kernel in ('linear', 'poly', 'rbf'):\n",
      "    model = SVC(kernel=kernel, gamma=2)\n",
      "    model.fit(X, Y)\n",
      "\n",
      "    # plot the line, the points, and the nearest vectors to the plane\n",
      "    figure(fignum, figsize=(4, 3))\n",
      "    plt.clf()\n",
      "\n",
      "    scatter(model.support_vectors_[:, 0], model.support_vectors_[:, 1], s=80,\n",
      "                facecolors='none', zorder=10)\n",
      "    scatter(X[:, 0], X[:, 1], c=Y, zorder=10, cmap=plt.cm.Paired)\n",
      "\n",
      "    axis('tight')\n",
      "    x_min = -3\n",
      "    x_max = 3\n",
      "    y_min = -3\n",
      "    y_max = 3\n",
      "\n",
      "    XX, YY = np.mgrid[x_min:x_max:200j, y_min:y_max:200j]\n",
      "    Z = model.decision_function(np.c_[XX.ravel(), YY.ravel()])\n",
      "\n",
      "    # Put the result into a color plot\n",
      "    Z = Z.reshape(XX.shape)\n",
      "    figure(fignum, figsize=(4, 3))\n",
      "    pcolormesh(XX, YY, Z > 0, cmap=plt.cm.Paired)\n",
      "    contour(XX, YY, Z, colors=['k', 'k', 'k'], linestyles=['--', '-', '--'],\n",
      "                levels=[-.5, 0, .5])\n",
      "\n",
      "    xlim(x_min, x_max)\n",
      "    ylim(y_min, y_max)\n",
      "\n",
      "    xticks(())\n",
      "    yticks(())\n",
      "    fignum = fignum + 1\n",
      "show()"
     ],
     "language": "python",
     "metadata": {},
     "outputs": []
    },
    {
     "cell_type": "heading",
     "level": 3,
     "metadata": {},
     "source": [
      "# \u0412\u0435\u0441\u0430"
     ]
    },
    {
     "cell_type": "code",
     "collapsed": false,
     "input": [
      "def plot_decision_function(classifier, sample_weight, axis, title):\n",
      "    # plot the decision function\n",
      "    xx, yy = np.meshgrid(np.linspace(-4, 7, 500), np.linspace(-4, 7, 500))\n",
      "\n",
      "    Z = classifier.decision_function(np.c_[xx.ravel(), yy.ravel()])\n",
      "    Z = Z.reshape(xx.shape)\n",
      "\n",
      "    # plot the line, the points, and the nearest vectors to the plane\n",
      "    axis.contourf(xx, yy, Z, alpha=0.75, cmap=plt.cm.bone)\n",
      "    axis.scatter(X[:, 0], X[:, 1], c=Y, s=100 * sample_weight, alpha=0.9,\n",
      "                 cmap=plt.cm.bone)\n",
      "\n",
      "    axis.axis('off')\n",
      "    axis.set_title(title)\n",
      "\n",
      "\n",
      "sample_weight_constant = np.ones(len(X))\n",
      "sample_weight_really = np.ones(len(X))\n",
      "sample_weight_really[Y==1] *= 3\n",
      "\n",
      "# for reference, first fit without class weights\n",
      "\n",
      "# fit the model\n",
      "clf_weights = svm.SVC()\n",
      "clf_weights.fit(X, Y, sample_weight=sample_weight_really)\n",
      "\n",
      "clf_no_weights = svm.SVC()\n",
      "clf_no_weights.fit(X, Y)\n",
      "\n",
      "fig, axes = plt.subplots(1, 2, figsize=(14, 6))\n",
      "plot_decision_function(clf_no_weights, sample_weight_constant, axes[0],\n",
      "                       \"Constant weights\")\n",
      "plot_decision_function(clf_weights, sample_weight_last_ten, axes[1],\n",
      "                       \"Modified weights\")\n",
      "\n",
      "plt.show()"
     ],
     "language": "python",
     "metadata": {},
     "outputs": []
    }
   ],
   "metadata": {}
  }
 ]
}